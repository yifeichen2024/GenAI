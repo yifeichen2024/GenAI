{
 "cells": [
  {
   "cell_type": "code",
   "execution_count": 2,
   "metadata": {},
   "outputs": [],
   "source": [
    "%load_ext autoreload\n",
    "%autoreload 2"
   ]
  },
  {
   "cell_type": "code",
   "execution_count": 3,
   "metadata": {},
   "outputs": [
    {
     "name": "stdout",
     "output_type": "stream",
     "text": [
      "Intel MKL WARNING: Support of Intel(R) Streaming SIMD Extensions 4.2 (Intel(R) SSE4.2) enabled only processors has been deprecated. Intel oneAPI Math Kernel Library 2025.0 will require Intel(R) Advanced Vector Extensions (Intel(R) AVX) instructions.\n",
      "Intel MKL WARNING: Support of Intel(R) Streaming SIMD Extensions 4.2 (Intel(R) SSE4.2) enabled only processors has been deprecated. Intel oneAPI Math Kernel Library 2025.0 will require Intel(R) Advanced Vector Extensions (Intel(R) AVX) instructions.\n"
     ]
    },
    {
     "name": "stderr",
     "output_type": "stream",
     "text": [
      "/Users/ericchen/opt/anaconda3/envs/Genai/lib/python3.10/site-packages/tqdm/auto.py:21: TqdmWarning: IProgress not found. Please update jupyter and ipywidgets. See https://ipywidgets.readthedocs.io/en/stable/user_install.html\n",
      "  from .autonotebook import tqdm as notebook_tqdm\n"
     ]
    }
   ],
   "source": [
    "import submission\n",
    "from tqdm import tqdm\n",
    "import pandas as pd\n",
    "import google.generativeai as genai\n",
    "import time"
   ]
  },
  {
   "cell_type": "markdown",
   "metadata": {},
   "source": [
    "## Part 0: Signature and API Key\n",
    "\n",
    "First step, have the signature function return your first and last name as a string. The below code should make sure that your signature function is implemented bug free."
   ]
  },
  {
   "cell_type": "code",
   "execution_count": 4,
   "metadata": {},
   "outputs": [
    {
     "name": "stdout",
     "output_type": "stream",
     "text": [
      "signature: Yifei Chen\n"
     ]
    }
   ],
   "source": [
    "signature = submission.signature()\n",
    "assert isinstance(signature, str), 'signature must be a string'\n",
    "print(f'signature: {signature}')"
   ]
  },
  {
   "cell_type": "markdown",
   "metadata": {},
   "source": [
    "Get your API key from [this link](https://ai.google.dev/gemini-api/docs) by clicking on the `Get a Gemini API Key` button and following the instructions.\n",
    "\n",
    "Once you have your API key, put it in the `api_key()` function in the `submission.py` file.\n",
    "\n",
    "```python\n",
    "def api_key():\n",
    "    \"\"\"\n",
    "    Return your api key as a string.\n",
    "    \"\"\"\n",
    "    key = \"api_key_here\"\n",
    "    return key\n",
    "```"
   ]
  },
  {
   "cell_type": "code",
   "execution_count": 5,
   "metadata": {},
   "outputs": [],
   "source": [
    "api_key = submission.api_key()\n",
    "assert api_key is not None, 'api_key must be a string'"
   ]
  },
  {
   "cell_type": "markdown",
   "metadata": {},
   "source": [
    "# Math Problems\n",
    "\n",
    "GSMK8 is a data set consisting of grade school math questions. Today, many language models are able to answer those questions with near perfect accuracy because they either have been trained on the data set, or have been prompted to solve the questions in a specific way.\n",
    "\n",
    "One thing that GPT 4o still has trouble doing is with math problems of large numbers. However, most arithmetic problems follow a very simple and algorithmic process.\n",
    "\n",
    "The purpose of this assignment is to get you to think about how you can prompt the model to produce an answer to a large multiplication question that follows the two rules:\n",
    "1. The answer must be correct.\n",
    "2. The answer must follow a specific format, namely, answers must end with a number, with no other text or symbols, and the answer should be delimited by a `#### answer: ` tag.\n",
    "\n",
    "For example, consider the answer:\n",
    "\n",
    "`What is 15348 * 1256?. #### answer: 193107488`\n",
    "\n",
    "This answer is correct and follows the format, where the answer is delimited by a `#### answer: ` tag and ends with a number without any other text or symbols.\n",
    "\n",
    "Your job is to write a prompt in the `submission.py` file that will produce the desired answer.\n",
    "\n",
    "## Format string\n",
    "\n",
    "Suppose we have the following string in Python called `prompt`:\n",
    "\n",
    "```python\n",
    "prompt = \"\"\"\n",
    "    {question}\n",
    "    #### answer: <answer>\n",
    "\"\"\"\n",
    "```\n",
    "Notice that `{question}` is a placeholder for the question surrounded by the curly braces. Python has a string method called `.format()` that allows you to pass in variables to the string. In this case, `question` is a variable that format will replace with the actual question. For example, if we have the following question:\n",
    "\n",
    "`What is 15348 * 1256?`\n",
    "\n",
    "Then calling `prompt.format(question='What is 15348 * 1256?')` will return the following string:\n",
    "\n",
    "```python\n",
    "\"\"\"\n",
    "What is 15348 * 1256?\n",
    "#### answer: <answer>\n",
    "\"\"\"\n",
    "```\n",
    "\n",
    "This is because the string `prompt` knows that `question` is a variable and will look for a parameter called `question` when the `.format()` method is called.\n",
    "\n",
    "Use this format to write your prompt in the `submission.py` file. You are free to add any additional context to the prompt that you think will help the model answer the question, but the `def prompt()` function will only take in a question as a parameter. See the comments in the `submission.py` file for more information.\n",
    "\n",
    "## Dataset\n",
    "\n",
    "We provide a dataset of 100 multiplication questions below.\n",
    "\n",
    "Your grade will be based on the accuracy of your prompt when we run it on a different data set of 100 questions that may involve more complex large number math problems. Thus you cannot hard code the answer in your prompt. Feel free to experiment with your own questions to see how well your prompt works.\n",
    "\n",
    "## Submission\n",
    "\n",
    "You will only submit the `submission.py` file to gradescope. If you want to test your prompt, you can run the following code. \n",
    "\n",
    "Be sure you complete the api_key() function or you will not be able to get a score.\n",
    "\n",
    "## Grading\n",
    "\n",
    "We will run your prompt on a different dataset of 25 of the same type of questions. Your score will be the accuracy of your prompt on this dataset.\n",
    "\n",
    "\n",
    "- Gradescope Accuracy >= 0.85 = Full score\n",
    "- Gradescope Accuracy >= 0.7 = 0.75 score\n",
    "- Gradescope Accuracy >= 0.6 = 0.5 score\n",
    "- Gradescope Accuracy > 0.5 = 0.25 score\n",
    "- Else = 0.0 score\n",
    "\n",
    "Your submission should take less than 4 minutes to grade. You are rate limited to 15 requests per minute, per requirements set by Gemini."
   ]
  },
  {
   "cell_type": "markdown",
   "metadata": {},
   "source": [
    "The following code below will load your dataset and run forward for 25 questions. "
   ]
  },
  {
   "cell_type": "code",
   "execution_count": 6,
   "metadata": {},
   "outputs": [
    {
     "data": {
      "text/plain": [
       "\"\\n        \\n        <context1>\\n        You are a highly accurate calculator. Solve the math problem below and provide the final answer in the correct format. #### answer: <answer>\\n        </context1>\\n\\n        <question>\\n        What is 1803 * 795?\\n        </question>\\n\\n        <answer>\\n        Your response must end with '#### answer: <answer>', where <answer> is the calculated number. The final answer must be a number, either an integer or a float. Do not include any text, symbols, or units after the number.\\n        </answer>\\n    \""
      ]
     },
     "metadata": {},
     "output_type": "display_data"
    }
   ],
   "source": [
    "submission.naive_prompt(\"What is the context?\")\n",
    "question = \"What is 1803 * 795?\"\n",
    "context1 = \"You are a highly accurate calculator. Solve the math problem below and provide the final answer in the correct format. #### answer: <answer>\"\n",
    "answer = \"Your response must end with '#### answer: <answer>', where <answer> is the calculated number. The final answer must be a number, either an integer or a float. Do not include any text, symbols, or units after the number.\"\n",
    "prompt = \"\"\"\n",
    "        \n",
    "        <context1>\n",
    "        {context1}\n",
    "        </context1>\n",
    "\n",
    "        <question>\n",
    "        {question}\n",
    "        </question>\n",
    "\n",
    "        <answer>\n",
    "        {answer}\n",
    "        </answer>\n",
    "    \"\"\"\n",
    "    \n",
    "prompt = prompt.format(question=question, context1=context1, answer=answer)\n",
    "display(prompt)"
   ]
  },
  {
   "cell_type": "code",
   "execution_count": 7,
   "metadata": {},
   "outputs": [],
   "source": [
    "# run this to load the dataset\n",
    "df = pd.read_csv('train.csv')\n",
    "questions = df['question'].tolist()\n",
    "truth = df['answer'].tolist()"
   ]
  },
  {
   "cell_type": "code",
   "execution_count": 8,
   "metadata": {},
   "outputs": [
    {
     "name": "stderr",
     "output_type": "stream",
     "text": [
      "  0%|          | 0/25 [00:00<?, ?it/s]"
     ]
    },
    {
     "name": "stdout",
     "output_type": "stream",
     "text": [
      "1433385\n",
      "['calculation steps:\\n\\n1. multiply 1803 by 5 (the ones digit of 795): 1803 * 5 = 9015\\n\\n2. multiply 1803 by 90 (the tens digit of 795): 1803 * 90 = 162270\\n\\n3. multiply 1803 by 700 (the hundreds digit of 795): 1803 * 700 = 1262100\\n\\n4. add the three intermediate results together: 9015 + 162270 + 1262100 = 1433385\\n\\n\\nverification:\\n\\nwe can verify the result by dividing 1433385 by 795.  if the result is 1803, our multiplication was correct.\\n\\n1433385 / 795 = 1803\\n\\n#### ', '1433385\\n']\n"
     ]
    },
    {
     "name": "stderr",
     "output_type": "stream",
     "text": [
      "  4%|▍         | 1/25 [00:05<02:21,  5.91s/it]"
     ]
    },
    {
     "name": "stdout",
     "output_type": "stream",
     "text": [
      "3403660\n",
      "['calculation steps:\\n\\n1. multiply 6890 by 4 (the ones digit of 494): 6890 * 4 = 27560\\n\\n2. multiply 6890 by 9 (the tens digit of 494): 6890 * 90 = 620100\\n\\n3. multiply 6890 by 4 (the hundreds digit of 494): 6890 * 400 = 2756000\\n\\n4. add the results from steps 1, 2, and 3: 27560 + 620100 + 2756000 = 3403660\\n\\nverification:\\n\\nto verify, we can perform the division: 3403660 / 494 = 6890 (approximately). the slight difference might arise from rounding errors if division is not exact.\\n\\n\\n#### ', '3403660\\n']\n"
     ]
    },
    {
     "name": "stderr",
     "output_type": "stream",
     "text": [
      "  8%|▊         | 2/25 [00:11<02:13,  5.80s/it]"
     ]
    },
    {
     "name": "stdout",
     "output_type": "stream",
     "text": [
      "4264416\n",
      "[\"calculation steps:\\n\\n1. multiply 4896 by 1 (the ones place of 871): 4896 * 1 = 4896\\n2. multiply 4896 by 7 (the tens place of 871): 4896 * 7 = 34272\\n3. multiply 4896 by 8 (the hundreds place of 871): 4896 * 8 = 39168\\n4. shift the results of steps 2 and 3 to the left to account for their place values:\\n   34272 becomes 342720\\n   39168 becomes 3916800\\n5. add the results from steps 1, 4 (shifted values): 4896 + 342720 + 3916800 = 4264416\\n\\nverification:\\n\\nto verify, we can perform a long division of the result by one of the original numbers.  let's divide 4264416 by 871:\\n\\n\\n4264416 ÷ 871 = 4896\\n\\n\\nthe division yields the original number, confirming the accuracy of the multiplication.\\n\\n\\n#### \", '4264416\\n']\n"
     ]
    },
    {
     "name": "stderr",
     "output_type": "stream",
     "text": [
      " 12%|█▏        | 3/25 [00:17<02:10,  5.95s/it]"
     ]
    },
    {
     "name": "stdout",
     "output_type": "stream",
     "text": [
      "91239083923\n",
      "['**calculation steps:**\\n\\n1. **add the numbers:** 72763122614 + 18475961309\\n\\n2. **perform addition column by column:**\\n   * units: 4 + 9 = 13 (write down 3, carry-over 1)\\n   * tens: 1 + 1 + 0 = 2\\n   * hundreds: 6 + 3 = 9\\n   * thousands: 2 + 1 = 3\\n   * ten thousands: 1 + 6 = 7\\n   * hundred thousands: 3 + 5 = 8\\n   * millions: 6 + 7 = 13 (write down 3, carry-over 1)\\n   * ten millions: 1 + 7 + 4 = 12 (write down 2, carry-over 1)\\n   * hundred millions: 1 + 2 + 8 = 11 (write down 1, carry-over 1)\\n   * billions: 1 + 7 = 8\\n\\n3. **combine the results:** 91239083923\\n\\n\\n**verification:**\\n\\nto verify, we can subtract 18475961309 from the result: 91239083923 - 18475961309 = 72763122614. this matches the original number, confirming our addition.\\n\\n\\n#### ', '91239083923\\n']\n"
     ]
    },
    {
     "name": "stderr",
     "output_type": "stream",
     "text": [
      " 16%|█▌        | 4/25 [00:24<02:10,  6.19s/it]"
     ]
    },
    {
     "name": "stdout",
     "output_type": "stream",
     "text": [
      "176308584824\n",
      "['calculation steps:\\n\\n1. **identify the numbers and operation:** the question asks for the sum of 97806011646 and 78502573178.  the operation is addition.\\n\\n2. **perform the addition:**\\n\\n   97806011646\\n+ 78502573178\\n-----------------\\n176308584824\\n\\n\\n3. **verification (subtraction):** to verify, we can subtract one of the original numbers from the sum.  if the result matches the other original number, our addition is correct.\\n\\n176308584824 - 78502573178 = 97806011646\\n\\nthe verification is successful.\\n\\n4. **provide the final answer:**\\n\\n#### ', '176308584824\\n']\n"
     ]
    },
    {
     "name": "stderr",
     "output_type": "stream",
     "text": [
      " 20%|██        | 5/25 [00:29<01:59,  5.99s/it]"
     ]
    },
    {
     "name": "stdout",
     "output_type": "stream",
     "text": [
      "-6172832\n",
      "['calculation steps:\\n\\n1. **identify the operation:** the question asks for the difference between 74572954 and 80745786, indicating subtraction.\\n\\n2. **perform the subtraction:**  80745786 - 74572954 = 6172832\\n\\n3. **check the result (using addition):** 74572954 + 6172832 = 80745786.  the check confirms the subtraction is correct.\\n\\n#### ', '-6172832\\n']\n"
     ]
    },
    {
     "name": "stderr",
     "output_type": "stream",
     "text": [
      " 24%|██▍       | 6/25 [00:35<01:48,  5.70s/it]"
     ]
    },
    {
     "name": "stdout",
     "output_type": "stream",
     "text": [
      "1207870\n",
      "['calculation steps:\\n\\n1. multiply 5618 by 5 (the ones place of 215): 5618 * 5 = 28090\\n\\n2. multiply 5618 by 10 (the tens place of 215): 5618 * 10 = 56180\\n\\n3. multiply 5618 by 200 (the hundreds place of 215): 5618 * 200 = 1123600\\n\\n4. add the three results together: 28090 + 56180 + 1123600 = 1207870\\n\\nverification:\\n\\nto verify, we can divide the result (1207870) by 215.  if the result is 5618, our multiplication was correct.\\n\\n1207870 / 215 = 5618\\n\\n#### ', '1207870\\n']\n"
     ]
    },
    {
     "name": "stderr",
     "output_type": "stream",
     "text": [
      " 28%|██▊       | 7/25 [00:40<01:43,  5.74s/it]"
     ]
    },
    {
     "name": "stdout",
     "output_type": "stream",
     "text": [
      "4312224\n",
      "['calculation steps:\\n\\n1. **multiplication:** we need to multiply 8556 by 504.  we can perform this multiplication using the standard algorithm:\\n\\n   ```\\n     8556\\n   x   504\\n   -------\\n    34224  (8556 * 4)\\n   00000  (8556 * 0)\\n4278000  (8556 * 500)\\n   -------\\n4312224\\n   ```\\n\\n2. **verification:** to verify the result, we can perform a division.  4312224 / 504 should equal 8556.\\n\\n   ```\\n   4312224 ÷ 504 = 8556\\n   ```\\n\\nthe division confirms our multiplication result.\\n\\n#### ', '4312224\\n']\n"
     ]
    },
    {
     "name": "stderr",
     "output_type": "stream",
     "text": [
      " 32%|███▏      | 8/25 [00:46<01:36,  5.68s/it]"
     ]
    },
    {
     "name": "stdout",
     "output_type": "stream",
     "text": [
      "2382366\n",
      "['calculation steps:\\n\\n1. multiply 5502 by 3 (the ones digit of 433): 5502 * 3 = 16506\\n\\n2. multiply 5502 by 30 (the tens digit of 433): 5502 * 30 = 165060\\n\\n3. multiply 5502 by 400 (the hundreds digit of 433): 5502 * 400 = 2200800\\n\\n4. add the results from steps 1, 2, and 3: 16506 + 165060 + 2200800 = 2382366\\n\\nverification:\\n\\nto verify, we can perform division.  2382366 / 433 = 5502.  this confirms the multiplication is correct.\\n\\n\\n#### ', '2382366\\n']\n"
     ]
    },
    {
     "name": "stderr",
     "output_type": "stream",
     "text": [
      " 36%|███▌      | 9/25 [00:52<01:31,  5.69s/it]"
     ]
    },
    {
     "name": "stdout",
     "output_type": "stream",
     "text": [
      "161356709801\n",
      "['**1. identify the operation and numbers:**\\n\\nthe question asks for the sum of two numbers: 93408848995 and 67947860806.  the operation is addition.\\n\\n**2. perform the addition:**\\n\\n93408848995 + 67947860806 = 161356709801\\n\\n**3. verification (subtraction):**\\n\\nto verify, we can subtract one of the original numbers from the sum to see if we get the other original number.\\n\\n161356709801 - 93408848995 = 67947860806  (correct)\\n\\n**4. final answer:**\\n\\n#### ', '161356709801\\n']\n"
     ]
    },
    {
     "name": "stderr",
     "output_type": "stream",
     "text": [
      " 40%|████      | 10/25 [00:57<01:24,  5.63s/it]"
     ]
    },
    {
     "name": "stdout",
     "output_type": "stream",
     "text": [
      "133955823087\n",
      "['**1. parse the numbers and operation:**\\n\\nthe question asks for the sum of two numbers: 84048545193 and 49907277894.  the operation is addition.\\n\\n**2. perform the addition:**\\n\\n84048545193 + 49907277894 = 133955823087\\n\\n\\n**3. verify the result using subtraction:**\\n\\nwe can check our answer by subtracting one of the original numbers from the sum.  if the result is the other original number, our addition was correct.\\n\\n133955823087 - 49907277894 = 84048545193 (this matches the first number, verifying the addition)\\n\\n133955823087 - 84048545193 = 49907277894 (this matches the second number, further verifying the addition)\\n\\n\\n**4. provide the answer in the required format:**\\n\\n#### ', '133955823087\\n']\n"
     ]
    },
    {
     "name": "stderr",
     "output_type": "stream",
     "text": [
      " 44%|████▍     | 11/25 [01:03<01:20,  5.77s/it]"
     ]
    },
    {
     "name": "stdout",
     "output_type": "stream",
     "text": [
      "20089875\n",
      "['calculation steps:\\n\\n1. **identify the operation:** the question asks for the difference between two numbers, indicating subtraction.\\n\\n2. **perform subtraction:** subtract 30451484 from 50541359.\\n\\n   50541359 - 30451484 = 20089875\\n\\n3. **verification (addition):**  add the result (20089875) to the subtrahend (30451484) to verify the subtraction.\\n\\n   20089875 + 30451484 = 50541359\\n\\nthe result matches the minuend (original number), confirming the accuracy of the subtraction.\\n\\n\\n#### ', '20089875\\n']\n"
     ]
    },
    {
     "name": "stderr",
     "output_type": "stream",
     "text": [
      " 48%|████▊     | 12/25 [01:09<01:13,  5.67s/it]"
     ]
    },
    {
     "name": "stdout",
     "output_type": "stream",
     "text": [
      "1093742\n",
      "['calculation steps:\\n\\n1. **multiplication:** we multiply 1829 by 598.\\n\\n   1829\\nx 598\\n-------\\n 14632 (1829 * 8)\\n164610 (1829 * 90)\\n914500 (1829 * 500)\\n-------\\n1093742\\n\\n\\n2. **verification:** we can verify this by performing division.  1093742 / 598 ≈ 1829.\\n\\n#### ', '1093742\\n']\n"
     ]
    },
    {
     "name": "stderr",
     "output_type": "stream",
     "text": [
      " 52%|█████▏    | 13/25 [01:14<01:06,  5.51s/it]"
     ]
    },
    {
     "name": "stdout",
     "output_type": "stream",
     "text": [
      "1411430\n",
      "['calculation steps:\\n\\n1. **multiply 8990 by 7 (the units digit of 157):** 8990 * 7 = 62930\\n\\n2. **multiply 8990 by 50 (the tens digit of 157):** 8990 * 50 = 449500\\n\\n3. **multiply 8990 by 100 (the hundreds digit of 157):** 8990 * 100 = 899000\\n\\n4. **add the three results together:** 62930 + 449500 + 899000 = 1411430\\n\\ntherefore, 8990 * 157 = 1411430\\n\\nverification:  (approximation check) 9000 * 150 = 1350000.  our answer is reasonably close.  a more precise verification would involve long division of 1411430 by 157, which should result in 8990.\\n\\n#### ', '1411430\\n']\n"
     ]
    },
    {
     "name": "stderr",
     "output_type": "stream",
     "text": [
      " 56%|█████▌    | 14/25 [01:20<01:02,  5.66s/it]"
     ]
    },
    {
     "name": "stdout",
     "output_type": "stream",
     "text": [
      "7362212\n",
      "['calculation steps:\\n\\n1. multiply 8723 by 4 (the ones digit of 844): 8723 * 4 = 34892\\n\\n2. multiply 8723 by 40 (the tens digit of 844): 8723 * 40 = 348920\\n\\n3. multiply 8723 by 800 (the hundreds digit of 844): 8723 * 800 = 6978400\\n\\n4. add the three intermediate results: 34892 + 348920 + 6978400 = 7362212\\n\\nverification:\\n\\nto verify, we can perform the division 7362212 / 844.  if the result is 8723, our multiplication is correct.\\n\\n7362212 / 844 = 8723\\n\\n#### ', '7362212\\n']\n"
     ]
    },
    {
     "name": "stderr",
     "output_type": "stream",
     "text": [
      " 60%|██████    | 15/25 [01:26<00:57,  5.75s/it]"
     ]
    },
    {
     "name": "stdout",
     "output_type": "stream",
     "text": [
      "145077692526\n",
      "['calculation steps:\\n\\n1. **identify the numbers and operation:** the question asks for the sum of 66849795920 and 78227896606.  the operation is addition.\\n\\n2. **perform the addition:**\\n\\n   66849795920\\n+ 78227896606\\n-----------------\\n145077692526\\n\\n\\n3. **verification (subtraction):** to verify, we can subtract one of the numbers from the sum to see if we get the other number.\\n\\n   145077692526 - 78227896606 = 66849795920\\n\\nthe verification is successful.\\n\\n\\n#### ', '145077692526\\n']\n"
     ]
    },
    {
     "name": "stderr",
     "output_type": "stream",
     "text": [
      " 64%|██████▍   | 16/25 [01:31<00:51,  5.71s/it]"
     ]
    },
    {
     "name": "stdout",
     "output_type": "stream",
     "text": [
      "139270159325\n",
      "['step 1: identify the numbers and the operation.\\n\\nnumbers: 41907337131 and 97362822194\\noperation: addition\\n\\nstep 2: perform the addition.\\n\\n41907337131 + 97362822194 = 139270159325\\n\\nstep 3: verify the result using subtraction.\\n\\n139270159325 - 97362822194 = 41907337131  (correct)\\n\\nstep 4:  present the final answer.\\n\\n#### ', '139270159325\\n']\n"
     ]
    },
    {
     "name": "stderr",
     "output_type": "stream",
     "text": [
      " 68%|██████▊   | 17/25 [01:37<00:45,  5.64s/it]"
     ]
    },
    {
     "name": "stdout",
     "output_type": "stream",
     "text": [
      "-40269027\n",
      "['calculation steps:\\n\\n1. **identify the operation:** the question asks for the difference between 50111873 and 90380900. this indicates a subtraction operation.\\n\\n2. **perform the subtraction:**\\n   90380900 - 50111873 = 40269027\\n\\n3. **verify the result (using addition):**\\n   40269027 + 50111873 = 90380900.  the verification matches the original numbers.\\n\\n#### ', '-40269027\\n']\n"
     ]
    },
    {
     "name": "stderr",
     "output_type": "stream",
     "text": [
      " 72%|███████▏  | 18/25 [01:42<00:38,  5.53s/it]"
     ]
    },
    {
     "name": "stdout",
     "output_type": "stream",
     "text": [
      "5672900\n",
      "['calculation steps:\\n\\n1. **multiply 7100 by 9:** 7100 * 9 = 63900\\n2. **multiply 7100 by 90:** 7100 * 90 = 639000 (this is equivalent to step 1, multiplied by 10)\\n3. **multiply 7100 by 700:** 7100 * 700 = 4970000 (this is equivalent to 7100 * 7 * 100)\\n4. **add the results from steps 1, 2, and 3:** 63900 + 639000 + 4970000 = 5672900\\n\\n\\nverification:\\n\\nto verify, we can perform the division 5672900 / 799.  if the result is approximately 7100, then the multiplication is likely correct.\\n\\n5672900 / 799 ≈ 7100\\n\\n#### ', '5672900\\n']\n"
     ]
    },
    {
     "name": "stderr",
     "output_type": "stream",
     "text": [
      " 76%|███████▌  | 19/25 [01:48<00:34,  5.67s/it]"
     ]
    },
    {
     "name": "stdout",
     "output_type": "stream",
     "text": [
      "2147612\n",
      "['calculation steps:\\n\\n1. multiply 7838 by 4 (the ones digit of 274): 7838 * 4 = 31352\\n\\n2. multiply 7838 by 70 (the tens digit of 274): 7838 * 70 = 548660\\n\\n3. multiply 7838 by 200 (the hundreds digit of 274): 7838 * 200 = 1567600\\n\\n4. add the three partial products: 31352 + 548660 + 1567600 = 2147612\\n\\nverification:\\n\\nto verify, we can perform a division.  2147612 / 274 = 7838.  this confirms the multiplication is correct.\\n\\n\\n#### ', '2147612\\n']\n"
     ]
    },
    {
     "name": "stderr",
     "output_type": "stream",
     "text": [
      " 80%|████████  | 20/25 [01:54<00:28,  5.67s/it]"
     ]
    },
    {
     "name": "stdout",
     "output_type": "stream",
     "text": [
      "2218206\n",
      "['calculation steps:\\n\\n1. multiply 4274 by 9 (ones place of 519): 4274 * 9 = 38466\\n\\n2. multiply 4274 by 10 (tens place of 519): 4274 * 10 = 42740\\n\\n3. multiply 4274 by 500 (hundreds place of 519): 4274 * 500 = 2137000\\n\\n4. add the results from steps 1, 2, and 3: 38466 + 42740 + 2137000 = 2218206\\n\\n\\nverification:\\n\\nwe can verify the result by dividing the final answer by 519.  if the result is 4274, our multiplication is correct.\\n\\n2218206 / 519 = 4274\\n\\n#### ', '2218206\\n']\n"
     ]
    },
    {
     "name": "stderr",
     "output_type": "stream",
     "text": [
      " 84%|████████▍ | 21/25 [02:00<00:22,  5.72s/it]"
     ]
    },
    {
     "name": "stdout",
     "output_type": "stream",
     "text": [
      "37828393205\n",
      "[\"calculation steps:\\n\\n1. **identify the operation:** the question asks for the sum of two numbers.  the operation is addition.\\n\\n2. **perform addition:** we add the two numbers: 13942338920 + 23886054285\\n\\n3. **intermediate calculation:**\\n   13942338920\\n+ 23886054285\\n------------------\\n   37828393205\\n\\n\\n4. **verification:** we can verify this by subtracting one of the original numbers from the sum.  let's subtract 23886054285 from 37828393205:\\n\\n   37828393205\\n- 23886054285\\n------------------\\n   13942338920\\n\\nthe result matches the first number, confirming the addition is correct.\\n\\n5. **final answer:**\\n\\n#### \", '37828393205\\n']\n"
     ]
    },
    {
     "name": "stderr",
     "output_type": "stream",
     "text": [
      " 88%|████████▊ | 22/25 [02:06<00:17,  5.76s/it]"
     ]
    },
    {
     "name": "stdout",
     "output_type": "stream",
     "text": [
      "148502999821\n",
      "[\"calculation steps:\\n\\n1. **identify the numbers and operation:** the question asks for the sum of 71474405791 and 77028594030.  the operation is addition.\\n\\n2. **perform the addition:**\\n\\n   71474405791\\n+ 77028594030\\n-------------\\n148502999821\\n\\n\\n3. **verification (subtraction):** to verify, we can subtract one of the original numbers from the sum.  let's subtract 77028594030 from 148502999821:\\n\\n148502999821\\n- 77028594030\\n-------------\\n71474405791\\n\\nthis matches the first number in the original addition, confirming the accuracy of the addition.\\n\\n\\n#### \", '148502999821\\n']\n"
     ]
    },
    {
     "name": "stderr",
     "output_type": "stream",
     "text": [
      " 92%|█████████▏| 23/25 [02:11<00:11,  5.78s/it]"
     ]
    },
    {
     "name": "stdout",
     "output_type": "stream",
     "text": [
      "-54078036\n",
      "['calculation steps:\\n\\n1. **identify the operation:** the question asks for the difference between two numbers, indicating subtraction.\\n\\n2. **perform subtraction:** we subtract 97075874 from 42997838.\\n\\n   42997838 - 97075874 = -54078036\\n\\n\\n3. **verify the result (using addition):**  to check our subtraction, we can add the result (-54078036) to the second number (97075874):\\n\\n   -54078036 + 97075874 = 42997838\\n\\nthis matches the first number in the original question, confirming our subtraction is correct.\\n\\n\\n#### ', '-54078036\\n']\n"
     ]
    },
    {
     "name": "stderr",
     "output_type": "stream",
     "text": [
      " 96%|█████████▌| 24/25 [02:17<00:05,  5.70s/it]"
     ]
    },
    {
     "name": "stdout",
     "output_type": "stream",
     "text": [
      "1841224\n",
      "['calculation steps:\\n\\n1. multiply 4697 by 2 (the units digit of 392): 4697 * 2 = 9394\\n\\n2. multiply 4697 by 90 (the tens digit of 392): 4697 * 90 = 422730\\n\\n3. multiply 4697 by 300 (the hundreds digit of 392): 4697 * 300 = 1409100\\n\\n4. add the results from steps 1, 2, and 3: 9394 + 422730 + 1409100 = 1841224\\n\\nverification:\\n\\nto verify, we can perform the division 1841224 / 392.\\n\\n1841224 / 392 = 4697\\n\\n#### ', '1841224\\n']\n"
     ]
    },
    {
     "name": "stderr",
     "output_type": "stream",
     "text": [
      "100%|██████████| 25/25 [02:23<00:00,  5.73s/it]"
     ]
    },
    {
     "name": "stdout",
     "output_type": "stream",
     "text": [
      "[1433385.0, 3403660.0, 4264416.0, 91239083923.0, 176308584824.0, -6172832.0, 1207870.0, 4312224.0, 2382366.0, 161356709801.0, 133955823087.0, 20089875.0, 1093742.0, 1411430.0, 7362212.0, 145077692526.0, 139270159325.0, -40269027.0, 5672900.0, 2147612.0, 2218206.0, 37828393205.0, 148502999821.0, -54078036.0, 1841224.0]\n"
     ]
    },
    {
     "name": "stderr",
     "output_type": "stream",
     "text": [
      "\n"
     ]
    }
   ],
   "source": [
    "api_key = submission.api_key()\n",
    "genai.configure(api_key=api_key)\n",
    "model = genai.GenerativeModel(\"gemini-1.5-flash\")\n",
    "def get_accuracy(n=20):\n",
    "    answers = []\n",
    "\n",
    "    for question in tqdm(questions[:n]):\n",
    "        splitted_text = model.generate_content(submission.prompt(question)).text.lower().split('answer: ')\n",
    "        gpt_answer = splitted_text[1].strip()\n",
    "        print(gpt_answer)\n",
    "        answers.append(float(gpt_answer))\n",
    "        print(splitted_text)\n",
    "        time.sleep(4)\n",
    "    return answers\n",
    "answers = get_accuracy(n=25)\n",
    "print(answers)"
   ]
  },
  {
   "cell_type": "code",
   "execution_count": 9,
   "metadata": {},
   "outputs": [
    {
     "name": "stdout",
     "output_type": "stream",
     "text": [
      "prompt accuracy on questions: 1.0\n"
     ]
    }
   ],
   "source": [
    "accuracy = sum([t == a for t, a in zip(truth[0:25], answers)]) / 25\n",
    "print(f'prompt accuracy on questions: {accuracy}')\n"
   ]
  }
 ],
 "metadata": {
  "kernelspec": {
   "display_name": "Genai",
   "language": "python",
   "name": "python3"
  },
  "language_info": {
   "codemirror_mode": {
    "name": "ipython",
    "version": 3
   },
   "file_extension": ".py",
   "mimetype": "text/x-python",
   "name": "python",
   "nbconvert_exporter": "python",
   "pygments_lexer": "ipython3",
   "version": "3.10.16"
  }
 },
 "nbformat": 4,
 "nbformat_minor": 2
}
